{
 "cells": [
  {
   "cell_type": "markdown",
   "id": "b3d6055b-971b-4797-9ee1-f8b364de7dda",
   "metadata": {},
   "source": [
    "# Data Science Tools and Ecosystem"
   ]
  },
  {
   "cell_type": "markdown",
   "id": "f37eb113-e60c-41d6-8679-2a71539279cd",
   "metadata": {},
   "source": [
    "### En este cuaderno, se resumen las herramientas y ecosistemas de ciencia de datos."
   ]
  },
  {
   "cell_type": "markdown",
   "id": "91aaaaff-b222-4f38-ba0a-dab73c1b6abe",
   "metadata": {},
   "source": [
    "#### **Objetivos:**\n",
    "- Visión general de las herramientas de la ciencia de datos  \n",
    "- Listar lenguajes populares para Ciencia de Datos\n",
    "-  Paquetes, API, conjuntos de datos y modelos\n",
    "-  Cuadernos Jupyter y JupyterLab\n",
    "-  RStudio y GitHub \n"
   ]
  },
  {
   "cell_type": "markdown",
   "id": "4f877973-f2f2-4ae6-8fe8-8734e1cd1b43",
   "metadata": {},
   "source": [
    "##### Algunos de los lenguajes populares que utilizan los científicos de datos son:"
   ]
  },
  {
   "cell_type": "markdown",
   "id": "60d6866d-e0cb-461d-ae1a-14d3c30fafda",
   "metadata": {},
   "source": [
    "###### 1 Python: Es uno de los lenguajes más populares debido a su simplicidad y la vasta cantidad de bibliotecas como Pandas, NumPy, SciPy y Scikit-learn."
   ]
  },
  {
   "cell_type": "markdown",
   "id": "2e455bf0-9dc7-4083-aab0-42c021c83535",
   "metadata": {},
   "source": [
    "###### 2 R: Es otro lenguaje muy utilizado, especialmente en estadística y análisis de datos. Tiene muchas librerías especializadas como ggplot2 y dplyr."
   ]
  },
  {
   "cell_type": "markdown",
   "id": "5ad8e603-31cf-4d1c-8409-a7af68dacce6",
   "metadata": {},
   "source": [
    "###### 3 SQL: Aunque no es un lenguaje de programación completo, SQL es fundamental para la manipulación y consulta de bases de datos, lo cual\n",
    "###### es esencial en la ciencia de datos."
   ]
  },
  {
   "cell_type": "markdown",
   "id": "1f0ee1e1-fd26-4a2a-8744-8ff2b8ba6260",
   "metadata": {},
   "source": [
    "##### Algunas de las bibliotecas comúnmente utilizadas por los científicos de datos incluyen:"
   ]
  },
  {
   "cell_type": "markdown",
   "id": "43329a37-40cf-4877-8a61-2008097ac282",
   "metadata": {},
   "source": [
    "###### 1 Pandas"
   ]
  },
  {
   "cell_type": "markdown",
   "id": "70492f58-b16b-41ab-94a3-e37af0fcaefd",
   "metadata": {},
   "source": [
    "###### 2 ggplot2"
   ]
  },
  {
   "cell_type": "markdown",
   "id": "2ceb251f-d253-4d62-865e-85bfd7120e6e",
   "metadata": {},
   "source": [
    "###### 3 Plotly"
   ]
  },
  {
   "cell_type": "markdown",
   "id": "66ab4ce5-7f0e-4c46-8e9a-c12dd0d01506",
   "metadata": {},
   "source": [
    "###### 4 NumPy"
   ]
  },
  {
   "cell_type": "markdown",
   "id": "b0f003d5-6e92-42f2-90e2-c25c1035d8fe",
   "metadata": {
    "jp-MarkdownHeadingCollapsed": true
   },
   "source": [
    "| Herramientas de Ciencia de Datos |\n",
    "|----------------------------------|\n",
    "| Jupyter Notebook                |  \n",
    "| RStudio                         |\n",
    "| Apache Zeppelin                 |\n"
   ]
  },
  {
   "cell_type": "markdown",
   "id": "48346f82-b9c3-4f3f-b404-c399172c99b7",
   "metadata": {},
   "source": [
    "### A continuación, se presentan algunos ejemplos de evaluación de expresiones aritméticas en Python\n",
    "##### Suma\n",
    "suma = 5 + 3\n",
    "print(\"Suma:\", suma) \n",
    "##### Resta\n",
    "resta=5-2\n",
    "print(\"resta:\",resta)\n",
    "##### Multiplicación\n",
    "multi=5*2\n",
    "print(\"multiplicación:\",multi)\n",
    "##### División\n",
    "division=5/2\n",
    "print(\"División:\",division)\n"
   ]
  },
  {
   "cell_type": "code",
   "execution_count": 23,
   "id": "6aabee2d-d63d-4dfc-bac0-111042ad579f",
   "metadata": {},
   "outputs": [
    {
     "name": "stdout",
     "output_type": "stream",
     "text": [
      "resultado: 17\n"
     ]
    }
   ],
   "source": [
    "#Esta es una expresión aritmética simple para multiplicar y luego sumar enteros\n",
    "resultado=(3*4)+5\n",
    "print(\"resultado:\",resultado,)"
   ]
  },
  {
   "cell_type": "code",
   "execution_count": 26,
   "id": "3ae57c9e-9b3f-4116-8554-a64ccbe488c6",
   "metadata": {},
   "outputs": [
    {
     "name": "stdout",
     "output_type": "stream",
     "text": [
      "minutos a horas: 3.3333333333333335 h\n"
     ]
    }
   ],
   "source": [
    "#Esto convertirá 200 minutos a horas dividiendo por 60\n",
    "operacion=200/60\n",
    "print(\"minutos a horas:\",operacion,\"h\")"
   ]
  },
  {
   "cell_type": "markdown",
   "id": "8ba8a400-9c7f-40c8-bb8b-ec6f52805c39",
   "metadata": {},
   "source": [
    "## Autor\n",
    "Laura Mb"
   ]
  },
  {
   "cell_type": "code",
   "execution_count": null,
   "id": "c49b3b4a-c6d9-434a-bd09-4fc83107c63e",
   "metadata": {},
   "outputs": [],
   "source": []
  }
 ],
 "metadata": {
  "kernelspec": {
   "display_name": "Python 3 (ipykernel)",
   "language": "python",
   "name": "python3"
  },
  "language_info": {
   "codemirror_mode": {
    "name": "ipython",
    "version": 3
   },
   "file_extension": ".py",
   "mimetype": "text/x-python",
   "name": "python",
   "nbconvert_exporter": "python",
   "pygments_lexer": "ipython3",
   "version": "3.9.21"
  }
 },
 "nbformat": 4,
 "nbformat_minor": 5
}
